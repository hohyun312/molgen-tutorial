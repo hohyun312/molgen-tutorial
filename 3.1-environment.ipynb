{
 "cells": [
  {
   "cell_type": "code",
   "execution_count": 1,
   "id": "c23e91e1",
   "metadata": {},
   "outputs": [],
   "source": [
    "import enum\n",
    "from dataclasses import dataclass, field"
   ]
  },
  {
   "cell_type": "markdown",
   "id": "ef9bd5f6",
   "metadata": {},
   "source": [
    "# State & Action Spaces\n",
    "\n",
    "\n",
    "**State space**\n",
    "\n",
    "- A state is simply a graph with node types and edge types\n",
    "- We define initial state as a graph with one node.\n",
    "\n",
    "**Action space**\n",
    "\n",
    "- AddNode: add a new node\n",
    "- AddEdge: add a new edge\n",
    "- Stop: end the episode"
   ]
  },
  {
   "cell_type": "code",
   "execution_count": 2,
   "id": "03c702c4",
   "metadata": {},
   "outputs": [],
   "source": [
    "class NodeType(enum.Enum):\n",
    "    C = enum.auto()\n",
    "    N = enum.auto()\n",
    "    O = enum.auto()\n",
    "    S = enum.auto()\n",
    "    P = enum.auto()\n",
    "    F = enum.auto()\n",
    "    I = enum.auto()\n",
    "    Cl = enum.auto()\n",
    "    Br = enum.auto()\n",
    "\n",
    "\n",
    "\n",
    "class EdgeType(enum.Enum):\n",
    "    SINGLE = enum.auto()\n",
    "    DOUBLE = enum.auto()\n",
    "    TRIPLE = enum.auto()\n",
    "\n",
    "    \n",
    "\n",
    "class ActionType(enum.Enum):\n",
    "    AddNode = enum.auto()\n",
    "    AddEdge = enum.auto()\n",
    "    STOP = enum.auto()\n",
    "        \n",
    "        \n",
    "@dataclass\n",
    "class State:\n",
    "    node_types: list[NodeType] = field(default_factory=list)\n",
    "    edge_types: list[EdgeType] = field(default_factory=list)\n",
    "    edge_list: list[tuple[int, int]] = field(default_factory=list)\n",
    "\n",
    "    num_node: int = field(default_factory=int, repr=False)\n",
    "    num_edge: int = field(default_factory=int, repr=False)\n",
    "    _edge_set: set[tuple[int, int]] = field(default_factory=set, repr=False)\n",
    "        \n",
    "    def __post_init__(self):\n",
    "        self.num_node = len(self.node_types)\n",
    "        self.num_edges = len(self.edge_types)\n",
    "        self._edge_set = set(self.edge_list)\n",
    "\n",
    "    def add_node(self, node_type: NodeType):\n",
    "        self.node_types.append(node_type)\n",
    "        self.num_node += 1\n",
    "\n",
    "    def add_edge(self, i: int, j: int, edge_type: EdgeType):\n",
    "        edge = (i, j) if i < j else (j, i)\n",
    "        self.edge_types.append(edge_type)\n",
    "        self.edge_list.append(edge)\n",
    "        self._edge_set.add(edge)\n",
    "        self.num_edge += 1\n",
    "        \n",
    "@dataclass\n",
    "class Action:\n",
    "    type: ActionType = None\n",
    "    source: int = None\n",
    "    target: int = None\n",
    "    node_type: NodeType = None\n",
    "    edge_type: EdgeType = None\n",
    "\n",
    "\n",
    "class Trajectory:\n",
    "    def __init__(self, states, actions):\n",
    "        assert len(states) == len(actions)\n",
    "        self.states = states\n",
    "        self.actions = actions\n",
    "\n",
    "    @property\n",
    "    def last_state(self):\n",
    "        return self.states[-1]\n",
    "\n",
    "    def __len__(self):\n",
    "        return len(self.states)\n",
    "\n",
    "    def __repr__(self):\n",
    "        return f\"{self.__class__.__name__}(size: {len(self)})\"\n"
   ]
  },
  {
   "cell_type": "markdown",
   "id": "0f242798",
   "metadata": {},
   "source": [
    "# Environment\n",
    "\n",
    "This part of implementation is bit complicated, so you may just import `mol_env` and use it."
   ]
  },
  {
   "cell_type": "code",
   "execution_count": 3,
   "id": "8a7eb11d-32a3-4635-94de-e02c26717351",
   "metadata": {},
   "outputs": [
    {
     "data": {
      "text/plain": [
       "State(node_types=[C], edge_types=[], edge_list=[])"
      ]
     },
     "execution_count": 3,
     "metadata": {},
     "output_type": "execute_result"
    }
   ],
   "source": [
    "import mol_env as env\n",
    "\n",
    "state = env.initial_state()\n",
    "state"
   ]
  },
  {
   "cell_type": "code",
   "execution_count": 4,
   "id": "068f458c-453e-424e-b647-e85b607f53c2",
   "metadata": {},
   "outputs": [
    {
     "data": {
      "text/plain": [
       "(State(node_types=[C, N], edge_types=[], edge_list=[]), False)"
      ]
     },
     "execution_count": 4,
     "metadata": {},
     "output_type": "execute_result"
    }
   ],
   "source": [
    "action = env.Action(\n",
    "    type=env.ActionType.AddNode,\n",
    "    node_type=env.NodeType.N\n",
    ")\n",
    "env.step(state, action)"
   ]
  },
  {
   "cell_type": "code",
   "execution_count": 5,
   "id": "a600c4bf-ae0a-4d8c-9309-96e78b6a994a",
   "metadata": {},
   "outputs": [
    {
     "data": {
      "text/plain": [
       "State(node_types=[C, N, C, N, C, C, C, O, N, C, O, N, C, C], edge_types=[SINGLE, SINGLE, DOUBLE, SINGLE, DOUBLE, SINGLE, DOUBLE, SINGLE, SINGLE, DOUBLE, SINGLE, SINGLE, SINGLE, SINGLE, SINGLE], edge_list=[(0, 1), (1, 2), (2, 3), (3, 4), (4, 5), (5, 6), (6, 7), (6, 8), (8, 9), (9, 10), (9, 11), (11, 12), (8, 13), (5, 1), (11, 4)])"
      ]
     },
     "execution_count": 5,
     "metadata": {},
     "output_type": "execute_result"
    }
   ],
   "source": [
    "caffeine = \"CN1C=NC2=C1C(=O)N(C(=O)N2C)C\"\n",
    "state = env.State.from_smiles(caffeine)\n",
    "state"
   ]
  },
  {
   "cell_type": "code",
   "execution_count": 6,
   "id": "eba861ca-4000-4ac8-861c-2a7ddb4da716",
   "metadata": {},
   "outputs": [
    {
     "data": {
      "text/plain": [
       "Data(edge_index=[2, 30], non_edge_index=[2, 78], node_type=[14], edge_type=[30], num_non_edges=78)"
      ]
     },
     "execution_count": 6,
     "metadata": {},
     "output_type": "execute_result"
    }
   ],
   "source": [
    "env.to_Data(state)"
   ]
  },
  {
   "cell_type": "code",
   "execution_count": 7,
   "id": "bb87990e-ba42-4035-9ef1-e5a99f7d408a",
   "metadata": {},
   "outputs": [
    {
     "data": {
      "image/png": "[encoded data removed]",
      "text/plain": [
       "<rdkit.Chem.rdchem.RWMol at 0x177f7ea20>"
      ]
     },
     "execution_count": 7,
     "metadata": {},
     "output_type": "execute_result"
    }
   ],
   "source": [
    "state.to_mol()"
   ]
  },
  {
   "cell_type": "code",
   "execution_count": 8,
   "id": "e8d05d59-5fb6-45b5-bce0-e40d70298cd7",
   "metadata": {},
   "outputs": [
    {
     "data": {
      "image/png": "[encoded data removed]",
      "text/plain": [
       "<Figure size 300x300 with 1 Axes>"
      ]
     },
     "metadata": {},
     "output_type": "display_data"
    }
   ],
   "source": [
    "state.viz()"
   ]
  },
  {
   "cell_type": "code",
   "execution_count": 13,
   "id": "cea8eea5-055e-42f0-b714-1fd1df677585",
   "metadata": {},
   "outputs": [
    {
     "data": {
      "text/plain": [
       "Trajectory(size: 29)"
      ]
     },
     "execution_count": 13,
     "metadata": {},
     "output_type": "execute_result"
    }
   ],
   "source": [
    "traj = env.get_bfs_trajectory(state)\n",
    "traj"
   ]
  },
  {
   "cell_type": "code",
   "execution_count": 12,
   "id": "2475724c-0d48-42c8-b4af-89fd82c6446e",
   "metadata": {},
   "outputs": [
    {
     "data": {
      "text/plain": [
       "[State(node_types=[C], edge_types=[], edge_list=[]),\n",
       " State(node_types=[C, N], edge_types=[], edge_list=[]),\n",
       " State(node_types=[C, N], edge_types=[SINGLE], edge_list=[(0, 1)]),\n",
       " State(node_types=[C, N, C], edge_types=[SINGLE], edge_list=[(0, 1)]),\n",
       " State(node_types=[C, N, C], edge_types=[SINGLE, SINGLE], edge_list=[(0, 1), (1, 2)]),\n",
       " State(node_types=[C, N, C, C], edge_types=[SINGLE, SINGLE], edge_list=[(0, 1), (1, 2)])]"
      ]
     },
     "execution_count": 12,
     "metadata": {},
     "output_type": "execute_result"
    }
   ],
   "source": [
    "traj.states[:6]"
   ]
  },
  {
   "cell_type": "code",
   "execution_count": 11,
   "id": "c1c4558d-a240-4ab4-bb27-cfccec11d3e8",
   "metadata": {},
   "outputs": [
    {
     "data": {
      "text/plain": [
       "State(node_types=[C, N, C, C, N, C, C, N, O, N, C, C, C, O], edge_types=[SINGLE, SINGLE, SINGLE, DOUBLE, DOUBLE, SINGLE, SINGLE, SINGLE, DOUBLE, SINGLE, SINGLE, SINGLE, SINGLE, SINGLE, DOUBLE], edge_list=[(0, 1), (1, 2), (1, 3), (2, 4), (3, 5), (3, 6), (4, 5), (5, 7), (6, 8), (6, 9), (7, 10), (7, 11), (9, 10), (9, 12), (10, 13)])"
      ]
     },
     "execution_count": 11,
     "metadata": {},
     "output_type": "execute_result"
    }
   ],
   "source": [
    "traj.last_state"
   ]
  },
  {
   "cell_type": "code",
   "execution_count": null,
   "id": "86a17e92-72d6-4145-8989-9ea6417bb013",
   "metadata": {},
   "outputs": [],
   "source": []
  }
 ],
 "metadata": {
  "kernelspec": {
   "display_name": "Python 3 (ipykernel)",
   "language": "python",
   "name": "python3"
  },
  "language_info": {
   "codemirror_mode": {
    "name": "ipython",
    "version": 3
   },
   "file_extension": ".py",
   "mimetype": "text/x-python",
   "name": "python",
   "nbconvert_exporter": "python",
   "pygments_lexer": "ipython3",
   "version": "3.10.12"
  }
 },
 "nbformat": 4,
 "nbformat_minor": 5
}
