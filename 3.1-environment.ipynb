{
 "cells": [
  {
   "cell_type": "code",
   "execution_count": 7,
   "id": "c23e91e1",
   "metadata": {},
   "outputs": [
    {
     "name": "stdout",
     "output_type": "stream",
     "text": [
      "torch_geometric\t 2.3.1\n",
      "matplotlib\t 3.7.1\n"
     ]
    }
   ],
   "source": [
    "import enum\n",
    "from dataclasses import dataclass, field\n",
    "from copy import deepcopy\n",
    "import torch_geometric.data as gd\n",
    "\n",
    "import torch_geometric \n",
    "import matplotlib\n",
    "print(\"torch_geometric\\t\", torch_geometric.__version__)\n",
    "print(\"matplotlib\\t\", matplotlib.__version__)"
   ]
  },
  {
   "cell_type": "markdown",
   "id": "ef9bd5f6",
   "metadata": {},
   "source": [
    "# State & Action Spaces\n",
    "\n",
    "\n",
    "**State space**\n",
    "\n",
    "- A state is simply a graph with node types and edge types\n",
    "- We define initial state as a graph with one node.\n",
    "\n",
    "**Action space**\n",
    "\n",
    "- AddNode: add a new node\n",
    "- AddEdge: add a new edge\n",
    "- Stop: end the episode"
   ]
  },
  {
   "cell_type": "code",
   "execution_count": 2,
   "id": "03c702c4",
   "metadata": {},
   "outputs": [],
   "source": [
    "class NodeType(enum.Enum):\n",
    "    C = enum.auto()\n",
    "    N = enum.auto()\n",
    "    O = enum.auto()\n",
    "    S = enum.auto()\n",
    "    P = enum.auto()\n",
    "    F = enum.auto()\n",
    "    I = enum.auto()\n",
    "    Cl = enum.auto()\n",
    "    Br = enum.auto()\n",
    "\n",
    "\n",
    "\n",
    "class EdgeType(enum.Enum):\n",
    "    SINGLE = enum.auto()\n",
    "    DOUBLE = enum.auto()\n",
    "    TRIPLE = enum.auto()\n",
    "\n",
    "    \n",
    "\n",
    "class ActionType(enum.Enum):\n",
    "    AddNode = enum.auto()\n",
    "    AddEdge = enum.auto()\n",
    "    STOP = enum.auto()\n",
    "        \n",
    "        \n",
    "@dataclass\n",
    "class State:\n",
    "    node_types: list[NodeType] = field(default_factory=list)\n",
    "    edge_types: list[EdgeType] = field(default_factory=list)\n",
    "    edge_list: list[tuple[int, int]] = field(default_factory=list)\n",
    "\n",
    "    num_node: int = field(default_factory=int, repr=False)\n",
    "    num_edge: int = field(default_factory=int, repr=False)\n",
    "    _edge_set: set[tuple[int, int]] = field(default_factory=set, repr=False)\n",
    "        \n",
    "    def __post_init__(self):\n",
    "        self.num_node = len(self.node_types)\n",
    "        self.num_edges = len(self.edge_types)\n",
    "        self._edge_set = set(self.edge_list)\n",
    "\n",
    "    def add_node(self, node_type: NodeType):\n",
    "        self.node_types.append(node_type)\n",
    "        self.num_node += 1\n",
    "\n",
    "    def add_edge(self, i: int, j: int, edge_type: EdgeType):\n",
    "        edge = (i, j) if i < j else (j, i)\n",
    "        self.edge_types.append(edge_type)\n",
    "        self.edge_list.append(edge)\n",
    "        self._edge_set.add(edge)\n",
    "        self.num_edge += 1\n",
    "        \n",
    "@dataclass\n",
    "class Action:\n",
    "    type: ActionType = None\n",
    "    source: int = None\n",
    "    target: int = None\n",
    "    node_type: NodeType = None\n",
    "    edge_type: EdgeType = None"
   ]
  },
  {
   "cell_type": "markdown",
   "id": "0f242798",
   "metadata": {},
   "source": [
    "# Environment"
   ]
  },
  {
   "cell_type": "code",
   "execution_count": 3,
   "id": "c4c2c458",
   "metadata": {},
   "outputs": [
    {
     "data": {
      "text/plain": [
       "State(node_types=[<NodeType.C: 1>], edge_types=[], edge_list=[])"
      ]
     },
     "execution_count": 3,
     "metadata": {},
     "output_type": "execute_result"
    }
   ],
   "source": [
    "\n",
    "class Environment:\n",
    "    def __init__(self, num_node_types: int, num_edge_types: int):\n",
    "        self.num_node_types = num_node_types\n",
    "        self.num_edge_types = num_edge_types\n",
    "\n",
    "    def initial_state(self):\n",
    "        return State([NodeType.C])\n",
    "\n",
    "    def step(self, state: State, action: Action):\n",
    "        next_state, done = deepcopy(state), False\n",
    "\n",
    "        if action.type == ActionType.AddNode:\n",
    "            next_state.add_node(action.node_type)\n",
    "\n",
    "        elif action.type == ActionType.AddEdge:\n",
    "            next_state.add_edge(action.source, action.target, action.edge_type)\n",
    "\n",
    "        else:\n",
    "            done = True\n",
    "\n",
    "        return next_state, done\n",
    "    \n",
    "    def to_Data(self, state: State) -> gd.Data:\n",
    "        # edge_index\n",
    "        edge_index = (\n",
    "            torch.LongTensor(\n",
    "                [e for i, j in state.edge_list for e in [(i, j), (j, i)]],\n",
    "            )\n",
    "            .reshape(-1, 2)\n",
    "            .t()\n",
    "            .contiguous()\n",
    "        )\n",
    "\n",
    "        # types\n",
    "        node_type = torch.LongTensor([n.value for n in state.node_types]) - 1\n",
    "        edge_type = (\n",
    "            torch.LongTensor([e for n in state.edge_types for e in (n.value, n.value)])\n",
    "            - 1\n",
    "        )\n",
    "\n",
    "        # non_edge_index\n",
    "        non_edges = state.get_non_edge_list()\n",
    "        non_edge_index = torch.LongTensor(non_edges).reshape(-1, 2).t().contiguous()\n",
    "        num_non_edges = non_edge_index.shape[1]\n",
    "\n",
    "        return gd.Data(\n",
    "            edge_index=edge_index,\n",
    "            non_edge_index=non_edge_index,\n",
    "            node_type=node_type,\n",
    "            edge_type=edge_type,\n",
    "            num_non_edges=num_non_edges,\n",
    "        )\n",
    "    \n",
    "    \n",
    "env = Environment(len(NodeType), len(EdgeType))\n",
    "\n",
    "env.initial_state()"
   ]
  },
  {
   "cell_type": "code",
   "execution_count": 4,
   "id": "f3cfc9dc",
   "metadata": {},
   "outputs": [
    {
     "data": {
      "text/plain": [
       "State(node_types=[<NodeType.C: 1>, <NodeType.C: 1>, <NodeType.C: 1>, <NodeType.C: 1>], edge_types=[<EdgeType.SINGLE: 1>, <EdgeType.SINGLE: 1>, <EdgeType.SINGLE: 1>], edge_list=[(0, 1), (1, 2), (1, 3)])"
      ]
     },
     "execution_count": 4,
     "metadata": {},
     "output_type": "execute_result"
    }
   ],
   "source": [
    "actions = [\n",
    "    Action(type=ActionType.AddNode, node_type=NodeType.C),\n",
    "    Action(type=ActionType.AddNode, node_type=NodeType.C),\n",
    "    Action(type=ActionType.AddNode, node_type=NodeType.C),\n",
    "    Action(type=ActionType.AddEdge, source=0, target= 1, edge_type=EdgeType.SINGLE),\n",
    "    Action(type=ActionType.AddEdge, source=1, target= 2, edge_type=EdgeType.SINGLE),\n",
    "    Action(type=ActionType.AddEdge, source=3, target= 1, edge_type=EdgeType.SINGLE),\n",
    "    Action(type=ActionType.STOP)\n",
    "]\n",
    "\n",
    "state = env.initial_state()\n",
    "for action in actions:\n",
    "    state, *_ = env.step(state, action)\n",
    "    \n",
    "state"
   ]
  },
  {
   "cell_type": "markdown",
   "id": "c3c2a5b2",
   "metadata": {},
   "source": [
    "You can see the full implementations in `environment.py`."
   ]
  },
  {
   "cell_type": "code",
   "execution_count": 8,
   "id": "21a38ed4",
   "metadata": {},
   "outputs": [
    {
     "data": {
      "text/plain": [
       "State(node_types=[C, N, C, N, C, C, C, O, N, C, O, N, C, C], edge_types=[SINGLE, SINGLE, DOUBLE, SINGLE, DOUBLE, SINGLE, DOUBLE, SINGLE, SINGLE, DOUBLE, SINGLE, SINGLE, SINGLE, SINGLE, SINGLE], edge_list=[(0, 1), (1, 2), (2, 3), (3, 4), (4, 5), (5, 6), (6, 7), (6, 8), (8, 9), (9, 10), (9, 11), (11, 12), (8, 13), (5, 1), (11, 4)])"
      ]
     },
     "execution_count": 8,
     "metadata": {},
     "output_type": "execute_result"
    }
   ],
   "source": [
    "from envs import Environment\n",
    "\n",
    "env = Environment()\n",
    "\n",
    "caffeine = \"CN1C=NC2=C1C(=O)N(C(=O)N2C)C\"\n",
    "state = env.State.from_smiles(caffeine)\n",
    "state"
   ]
  },
  {
   "cell_type": "code",
   "execution_count": 9,
   "id": "b21aa7da",
   "metadata": {},
   "outputs": [
    {
     "data": {
      "image/png": "[encoded data removed]",
      "text/plain": [
       "<rdkit.Chem.rdchem.RWMol at 0x28c9c3240>"
      ]
     },
     "execution_count": 9,
     "metadata": {},
     "output_type": "execute_result"
    }
   ],
   "source": [
    "state.to_mol()"
   ]
  },
  {
   "cell_type": "code",
   "execution_count": 10,
   "id": "860988c8",
   "metadata": {},
   "outputs": [
    {
     "data": {
      "image/png": "[encoded data removed]",
      "text/plain": [
       "<Figure size 300x300 with 1 Axes>"
      ]
     },
     "metadata": {},
     "output_type": "display_data"
    }
   ],
   "source": [
    "state.viz()"
   ]
  },
  {
   "cell_type": "code",
   "execution_count": 11,
   "id": "bfc35238",
   "metadata": {},
   "outputs": [],
   "source": [
    "states, actions = env.get_bfs_trajectory(state)"
   ]
  },
  {
   "cell_type": "code",
   "execution_count": 12,
   "id": "ec5346ea",
   "metadata": {},
   "outputs": [
    {
     "data": {
      "text/plain": [
       "[State(node_types=[C], edge_types=[], edge_list=[]),\n",
       " State(node_types=[C, N], edge_types=[], edge_list=[]),\n",
       " State(node_types=[C, N], edge_types=[SINGLE], edge_list=[(0, 1)]),\n",
       " State(node_types=[C, N, C], edge_types=[SINGLE], edge_list=[(0, 1)]),\n",
       " State(node_types=[C, N, C], edge_types=[SINGLE, SINGLE], edge_list=[(0, 1), (1, 2)]),\n",
       " State(node_types=[C, N, C, C], edge_types=[SINGLE, SINGLE], edge_list=[(0, 1), (1, 2)])]"
      ]
     },
     "execution_count": 12,
     "metadata": {},
     "output_type": "execute_result"
    }
   ],
   "source": [
    "states[:6]"
   ]
  },
  {
   "cell_type": "markdown",
   "id": "81bc88f5",
   "metadata": {},
   "source": [
    "# Question\n",
    "\n",
    "1. 위에서는 가상의 노드를 추가하여 edge를 선택하는 방식으로 action space를 정의하였다. \\\n",
    "    만약 node type이 여러 개인 경우 action을 어떻게 정의할 수 있을까?\n",
    "    \n",
    "2. `to_Data` 함수에서 `edge_index`를 만들 때 `.contiguous()` 메소드를 사용했는데, 그 역할은?"
   ]
  }
 ],
 "metadata": {
  "kernelspec": {
   "display_name": "Python 3 (ipykernel)",
   "language": "python",
   "name": "python3"
  },
  "language_info": {
   "codemirror_mode": {
    "name": "ipython",
    "version": 3
   },
   "file_extension": ".py",
   "mimetype": "text/x-python",
   "name": "python",
   "nbconvert_exporter": "python",
   "pygments_lexer": "ipython3",
   "version": "3.10.12"
  }
 },
 "nbformat": 4,
 "nbformat_minor": 5
}
